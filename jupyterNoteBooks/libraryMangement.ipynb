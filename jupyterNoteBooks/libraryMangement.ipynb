{
 "cells": [
  {
   "cell_type": "code",
   "execution_count": 8,
   "id": "742c8250-3c97-4b60-9629-049f4e35c4f3",
   "metadata": {},
   "outputs": [],
   "source": [
    "class Book:\n",
    "    def __init__(self,bookId,bookName):\n",
    "        self.bookId = bookId\n",
    "        self.bookName = bookName\n",
    "        self.isborrowed = False\n",
    "\n",
    "    def borrowed(self):\n",
    "        self.isborrowed = True\n",
    "\n",
    "class User:\n",
    "    def __init__(self,userId,userName):\n",
    "        self.userId=userId\n",
    "        self.userName=userName\n",
    "        self.borrowed = list()\n",
    "\n",
    "    def addBorrowed(self,bookId):\n",
    "        self.borrowed.append(bookId)      "
   ]
  },
  {
   "cell_type": "code",
   "execution_count": 9,
   "id": "f3c646e2-4a4b-45b2-836a-51f7881a3be3",
   "metadata": {},
   "outputs": [],
   "source": [
    "def AddBook(bookId,bookName):\n",
    "    book = Book(bookId,bookName)\n",
    "    return book"
   ]
  },
  {
   "cell_type": "code",
   "execution_count": 10,
   "id": "acfb1194-8c9c-42d5-a1d3-95363d941542",
   "metadata": {},
   "outputs": [],
   "source": [
    "def borrowedBook(book,user):\n",
    "    book.borrowed()\n",
    "    user.addBorrowed(book.bookId)"
   ]
  },
  {
   "cell_type": "code",
   "execution_count": 11,
   "id": "1f1cba03-db3e-4847-a16a-fc322666b1b6",
   "metadata": {},
   "outputs": [],
   "source": [
    "def AddUser(userId,userName):\n",
    "    user = User(userId,userName)\n",
    "    return user\n"
   ]
  },
  {
   "cell_type": "code",
   "execution_count": null,
   "id": "4c522155-501e-4980-9da9-8ca5d5423bcf",
   "metadata": {},
   "outputs": [],
   "source": []
  },
  {
   "cell_type": "code",
   "execution_count": 12,
   "id": "0d547334-2ac4-42d1-b5e2-7dfc8409f744",
   "metadata": {},
   "outputs": [
    {
     "name": "stdin",
     "output_type": "stream",
     "text": [
      "Enter the choice (1: Add User, 2: Add Book, 3: Borrow Book, 4: Exit):  1\n",
      "Enter the user name:  Hamza\n",
      "Enter the user id:  1\n",
      "Enter the choice (1: Add User, 2: Add Book, 3: Borrow Book, 4: Exit):  4\n"
     ]
    },
    {
     "name": "stdout",
     "output_type": "stream",
     "text": [
      "Exiting...\n"
     ]
    }
   ],
   "source": [
    "def main():\n",
    "    user = dict()\n",
    "    book = dict()\n",
    "\n",
    "    while(True):\n",
    "        # Convert input to an integer for proper comparison\n",
    "        x = int(input(\"Enter the choice (1: Add User, 2: Add Book, 3: Borrow Book, 4: Exit): \"))\n",
    "\n",
    "        if x == 1:\n",
    "            name = input(\"Enter the user name: \")\n",
    "            id = input(\"Enter the user id: \")\n",
    "            \n",
    "            if id in user:\n",
    "                print(\"User already exists. Try again.\")\n",
    "                continue\n",
    "            \n",
    "            newUser = AddUser(id, name)\n",
    "            user[newUser.userId] = newUser\n",
    "        \n",
    "        elif x == 2:\n",
    "            name = input(\"Enter the book name: \")\n",
    "            id = input(\"Enter the book id: \")\n",
    "\n",
    "            if id in book:\n",
    "                print(\"Book already exists. Try again.\")\n",
    "                continue\n",
    "\n",
    "            newBook = AddBook(id, name)\n",
    "            book[newBook.bookId] = newBook  \n",
    "        \n",
    "        elif x == 3:\n",
    "            bookid = input(\"Enter the book id: \")\n",
    "            userid = input(\"Enter the user id: \")\n",
    "\n",
    "            if(book[bookid].isborrowed==False and len(user[userid].borrowed)<=3):\n",
    "                if userid in user and bookid in book:\n",
    "                    borrowedBook(book[bookid], user[userid])\n",
    "                else:\n",
    "                    print(\"Invalid book id or user id.\")\n",
    "            else:\n",
    "                print(\"Invalid trying again\")\n",
    "\n",
    "        elif x==4:\n",
    "            bookid = input(\"Enter the book id\")\n",
    "            userid = input(\"Enter the user id\")\n",
    "\n",
    "            if(userid in user and bookid in book):\n",
    "                book[bookid].isborrowed = False\n",
    "                user[userid].borrowed.remover(bookid)\n",
    "        elif x == 5:\n",
    "            print(\"Exiting...\")\n",
    "            break\n",
    "        \n",
    "        else:\n",
    "            print(\"Invalid option, try again.\")\n",
    "\n",
    "if __name__ == \"__main__\":\n",
    "    main()\n"
   ]
  },
  {
   "cell_type": "code",
   "execution_count": 6,
   "id": "f129479d-383e-4598-b5d3-38e118074863",
   "metadata": {},
   "outputs": [],
   "source": [
    "if __name__==\"__main__\":\n",
    "    main()"
   ]
  },
  {
   "cell_type": "code",
   "execution_count": null,
   "id": "c6089c66-3723-4fbd-a544-a9ef2804a398",
   "metadata": {},
   "outputs": [],
   "source": []
  }
 ],
 "metadata": {
  "kernelspec": {
   "display_name": "Python 3 (ipykernel)",
   "language": "python",
   "name": "python3"
  },
  "language_info": {
   "codemirror_mode": {
    "name": "ipython",
    "version": 3
   },
   "file_extension": ".py",
   "mimetype": "text/x-python",
   "name": "python",
   "nbconvert_exporter": "python",
   "pygments_lexer": "ipython3",
   "version": "3.12.2"
  }
 },
 "nbformat": 4,
 "nbformat_minor": 5
}
