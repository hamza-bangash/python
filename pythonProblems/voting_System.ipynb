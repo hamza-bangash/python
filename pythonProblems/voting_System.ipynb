{
 "cells": [
  {
   "cell_type": "code",
   "execution_count": 1,
   "id": "b79c7938-a4d3-46f1-bc15-f3917031a592",
   "metadata": {},
   "outputs": [],
   "source": [
    "from collections import Counter\n",
    "candidates = [\"Alice\", \"Bob\", \"Charlie\"]\n",
    "candidates=[name.lower() for name in candidates]\n",
    "votes = Counter()\n",
    "vote_user = set()"
   ]
  },
  {
   "cell_type": "code",
   "execution_count": null,
   "id": "dc768171-640d-4fc8-9d7f-a7f10cc00c24",
   "metadata": {},
   "outputs": [],
   "source": [
    "def showCandidates():\n",
    "    for name in candidates:\n",
    "        print(f\"{name.capitalize()}\")"
   ]
  },
  {
   "cell_type": "code",
   "execution_count": null,
   "id": "5db5657f-b936-46d8-9176-686b5df75c73",
   "metadata": {},
   "outputs": [],
   "source": [
    "def castVote(userName):\n",
    "    user = input(\"Enter the user name : \").strip().lower()\n",
    "    if user in vote_user:\n",
    "        print(\"Already voted\")\n",
    "    else:\n",
    "        showCandidates()\n",
    "        choice = input(\"Enter the candidates name : \").strip().lower()\n",
    "        if choice in candidates:\n",
    "            votes[choice] +=1\n",
    "            vote_user.append(user)\n",
    "        else:\n",
    "            print(\"invalid choice \")"
   ]
  },
  {
   "cell_type": "code",
   "execution_count": null,
   "id": "268cf3ca-a9bd-4e64-a41b-f87544514df5",
   "metadata": {},
   "outputs": [],
   "source": [
    "def showResult():\n",
    "    for name , votes in votes.items():\n",
    "        print(f\"{name} = {votes}\"\n",
    "    if no votes:\n",
    "        print(\"No vote cast yet\")\n",
    "\n",
    "    max_vote  = max(votes.values())\n",
    "\n",
    "    winner = [name for name,vote in votes.items() if vote==max_vote]\n",
    "\n",
    "    print(f\"The winer is {winner}\")"
   ]
  },
  {
   "cell_type": "code",
   "execution_count": null,
   "id": "054a3219-d702-4750-ae20-cc832ec819b1",
   "metadata": {},
   "outputs": [],
   "source": [
    "def main():\n",
    "    while True:\n",
    "        print(\"\\n----- Smart Voting System -----\")\n",
    "        print(\"1. Cast Vote\")\n",
    "        print(\"2. Show Results\")\n",
    "        print(\"3. Exit\")\n",
    "\n",
    "        choice = input(\"Enter your choice : \")\n",
    "        if(choice==1):\n",
    "            castVote()\n",
    "        elif(choice==2):\n",
    "            showResult()\n",
    "        elif(choice==3):\n",
    "            break\n",
    "        else:\n",
    "            print(\"Invalid choice\")"
   ]
  },
  {
   "cell_type": "code",
   "execution_count": null,
   "id": "900a6a27-24d3-422b-b2b0-788dc03300e2",
   "metadata": {},
   "outputs": [],
   "source": [
    "if __name__ == \"__main__:\n",
    "    main()"
   ]
  }
 ],
 "metadata": {
  "kernelspec": {
   "display_name": "Python 3 (ipykernel)",
   "language": "python",
   "name": "python3"
  },
  "language_info": {
   "codemirror_mode": {
    "name": "ipython",
    "version": 3
   },
   "file_extension": ".py",
   "mimetype": "text/x-python",
   "name": "python",
   "nbconvert_exporter": "python",
   "pygments_lexer": "ipython3",
   "version": "3.12.2"
  }
 },
 "nbformat": 4,
 "nbformat_minor": 5
}
